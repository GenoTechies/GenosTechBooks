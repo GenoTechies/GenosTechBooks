{
 "cells": [
  {
   "cell_type": "markdown",
   "metadata": {},
   "source": [
    "# District Wise Infected Count\n",
    "\n",
    "Click the {fa}`rocket` --> {guilabel}`Live Code` button above on this page, and run the code below.\n",
    "In the frist attempt it might take some time to Binder to be \"ready\". If it's not repsonded click the button again."
   ]
  },
  {
   "cell_type": "code",
   "execution_count": 1,
   "metadata": {
    "interactive": true,
    "tags": [
     "thebe-init"
    ]
   },
   "outputs": [
    {
     "name": "stdout",
     "output_type": "stream",
     "text": [
      "Requirement already satisfied: pandas in d:\\github\\genostechbooks\\venv\\lib\\site-packages (1.3.4)\n",
      "Requirement already satisfied: numpy>=1.17.3 in d:\\github\\genostechbooks\\venv\\lib\\site-packages (from pandas) (1.21.3)\n",
      "Requirement already satisfied: pytz>=2017.3 in d:\\github\\genostechbooks\\venv\\lib\\site-packages (from pandas) (2021.3)\n",
      "Requirement already satisfied: python-dateutil>=2.7.3 in d:\\github\\genostechbooks\\venv\\lib\\site-packages (from pandas) (2.8.2)\n",
      "Requirement already satisfied: six>=1.5 in d:\\github\\genostechbooks\\venv\\lib\\site-packages (from python-dateutil>=2.7.3->pandas) (1.16.0)\n"
     ]
    },
    {
     "name": "stderr",
     "output_type": "stream",
     "text": [
      "WARNING: You are using pip version 21.2.3; however, version 21.3.1 is available.\n",
      "You should consider upgrading via the 'D:\\Github\\GenosTechBooks\\venv\\Scripts\\python.exe -m pip install --upgrade pip' command.\n"
     ]
    },
    {
     "name": "stdout",
     "output_type": "stream",
     "text": [
      "Requirement already satisfied: matplotlib in d:\\github\\genostechbooks\\venv\\lib\\site-packages (3.4.3)\n",
      "Requirement already satisfied: python-dateutil>=2.7 in d:\\github\\genostechbooks\\venv\\lib\\site-packages (from matplotlib) (2.8.2)\n",
      "Requirement already satisfied: pillow>=6.2.0 in d:\\github\\genostechbooks\\venv\\lib\\site-packages (from matplotlib) (8.4.0)\n",
      "Requirement already satisfied: pyparsing>=2.2.1 in d:\\github\\genostechbooks\\venv\\lib\\site-packages (from matplotlib) (3.0.0)\n",
      "Requirement already satisfied: cycler>=0.10 in d:\\github\\genostechbooks\\venv\\lib\\site-packages (from matplotlib) (0.10.0)\n",
      "Requirement already satisfied: numpy>=1.16 in d:\\github\\genostechbooks\\venv\\lib\\site-packages (from matplotlib) (1.21.3)\n",
      "Requirement already satisfied: kiwisolver>=1.0.1 in d:\\github\\genostechbooks\\venv\\lib\\site-packages (from matplotlib) (1.3.2)\n",
      "Requirement already satisfied: six in d:\\github\\genostechbooks\\venv\\lib\\site-packages (from cycler>=0.10->matplotlib) (1.16.0)\n"
     ]
    },
    {
     "name": "stderr",
     "output_type": "stream",
     "text": [
      "WARNING: You are using pip version 21.2.3; however, version 21.3.1 is available.\n",
      "You should consider upgrading via the 'D:\\Github\\GenosTechBooks\\venv\\Scripts\\python.exe -m pip install --upgrade pip' command.\n"
     ]
    },
    {
     "name": "stdout",
     "output_type": "stream",
     "text": [
      "Requirement already satisfied: seaborn in d:\\github\\genostechbooks\\venv\\lib\\site-packages (0.11.2)\n",
      "Requirement already satisfied: scipy>=1.0 in d:\\github\\genostechbooks\\venv\\lib\\site-packages (from seaborn) (1.7.1)\n",
      "Requirement already satisfied: matplotlib>=2.2 in d:\\github\\genostechbooks\\venv\\lib\\site-packages (from seaborn) (3.4.3)\n",
      "Requirement already satisfied: numpy>=1.15 in d:\\github\\genostechbooks\\venv\\lib\\site-packages (from seaborn) (1.21.3)\n",
      "Requirement already satisfied: pandas>=0.23 in d:\\github\\genostechbooks\\venv\\lib\\site-packages (from seaborn) (1.3.4)\n",
      "Requirement already satisfied: pillow>=6.2.0 in d:\\github\\genostechbooks\\venv\\lib\\site-packages (from matplotlib>=2.2->seaborn) (8.4.0)\n",
      "Requirement already satisfied: pyparsing>=2.2.1 in d:\\github\\genostechbooks\\venv\\lib\\site-packages (from matplotlib>=2.2->seaborn) (3.0.0)\n",
      "Requirement already satisfied: kiwisolver>=1.0.1 in d:\\github\\genostechbooks\\venv\\lib\\site-packages (from matplotlib>=2.2->seaborn) (1.3.2)\n",
      "Requirement already satisfied: python-dateutil>=2.7 in d:\\github\\genostechbooks\\venv\\lib\\site-packages (from matplotlib>=2.2->seaborn) (2.8.2)\n",
      "Requirement already satisfied: cycler>=0.10 in d:\\github\\genostechbooks\\venv\\lib\\site-packages (from matplotlib>=2.2->seaborn) (0.10.0)\n",
      "Requirement already satisfied: six in d:\\github\\genostechbooks\\venv\\lib\\site-packages (from cycler>=0.10->matplotlib>=2.2->seaborn) (1.16.0)\n",
      "Requirement already satisfied: pytz>=2017.3 in d:\\github\\genostechbooks\\venv\\lib\\site-packages (from pandas>=0.23->seaborn) (2021.3)\n"
     ]
    },
    {
     "name": "stderr",
     "output_type": "stream",
     "text": [
      "WARNING: You are using pip version 21.2.3; however, version 21.3.1 is available.\n",
      "You should consider upgrading via the 'D:\\Github\\GenosTechBooks\\venv\\Scripts\\python.exe -m pip install --upgrade pip' command.\n"
     ]
    },
    {
     "name": "stdout",
     "output_type": "stream",
     "text": [
      "Requirement already satisfied: ipywidgets in d:\\github\\genostechbooks\\venv\\lib\\site-packages (7.6.5)\n",
      "Requirement already satisfied: ipykernel>=4.5.1 in d:\\github\\genostechbooks\\venv\\lib\\site-packages (from ipywidgets) (6.4.2)\n",
      "Requirement already satisfied: ipython-genutils~=0.2.0 in d:\\github\\genostechbooks\\venv\\lib\\site-packages (from ipywidgets) (0.2.0)\n",
      "Requirement already satisfied: traitlets>=4.3.1 in d:\\github\\genostechbooks\\venv\\lib\\site-packages (from ipywidgets) (5.1.0)\n",
      "Requirement already satisfied: nbformat>=4.2.0 in d:\\github\\genostechbooks\\venv\\lib\\site-packages (from ipywidgets) (5.1.3)\n",
      "Requirement already satisfied: ipython>=4.0.0 in d:\\github\\genostechbooks\\venv\\lib\\site-packages (from ipywidgets) (7.28.0)\n",
      "Requirement already satisfied: jupyterlab-widgets>=1.0.0 in d:\\github\\genostechbooks\\venv\\lib\\site-packages (from ipywidgets) (1.0.2)\n",
      "Requirement already satisfied: widgetsnbextension~=3.5.0 in d:\\github\\genostechbooks\\venv\\lib\\site-packages (from ipywidgets) (3.5.1)\n",
      "Requirement already satisfied: tornado<7.0,>=4.2 in d:\\github\\genostechbooks\\venv\\lib\\site-packages (from ipykernel>=4.5.1->ipywidgets) (6.1)\n",
      "Requirement already satisfied: matplotlib-inline<0.2.0,>=0.1.0 in d:\\github\\genostechbooks\\venv\\lib\\site-packages (from ipykernel>=4.5.1->ipywidgets) (0.1.3)\n",
      "Requirement already satisfied: jupyter-client<8.0 in d:\\github\\genostechbooks\\venv\\lib\\site-packages (from ipykernel>=4.5.1->ipywidgets) (7.0.6)\n",
      "Requirement already satisfied: debugpy<2.0,>=1.0.0 in d:\\github\\genostechbooks\\venv\\lib\\site-packages (from ipykernel>=4.5.1->ipywidgets) (1.5.1)\n",
      "Requirement already satisfied: setuptools>=18.5 in d:\\github\\genostechbooks\\venv\\lib\\site-packages (from ipython>=4.0.0->ipywidgets) (57.4.0)\n",
      "Requirement already satisfied: jedi>=0.16 in d:\\github\\genostechbooks\\venv\\lib\\site-packages (from ipython>=4.0.0->ipywidgets) (0.18.0)\n",
      "Requirement already satisfied: decorator in d:\\github\\genostechbooks\\venv\\lib\\site-packages (from ipython>=4.0.0->ipywidgets) (5.1.0)\n",
      "Requirement already satisfied: backcall in d:\\github\\genostechbooks\\venv\\lib\\site-packages (from ipython>=4.0.0->ipywidgets) (0.2.0)\n",
      "Requirement already satisfied: prompt-toolkit!=3.0.0,!=3.0.1,<3.1.0,>=2.0.0 in d:\\github\\genostechbooks\\venv\\lib\\site-packages (from ipython>=4.0.0->ipywidgets) (3.0.21)\n",
      "Requirement already satisfied: pygments in d:\\github\\genostechbooks\\venv\\lib\\site-packages (from ipython>=4.0.0->ipywidgets) (2.10.0)\n",
      "Requirement already satisfied: colorama in d:\\github\\genostechbooks\\venv\\lib\\site-packages (from ipython>=4.0.0->ipywidgets) (0.4.4)\n",
      "Requirement already satisfied: pickleshare in d:\\github\\genostechbooks\\venv\\lib\\site-packages (from ipython>=4.0.0->ipywidgets) (0.7.5)\n",
      "Requirement already satisfied: parso<0.9.0,>=0.8.0 in d:\\github\\genostechbooks\\venv\\lib\\site-packages (from jedi>=0.16->ipython>=4.0.0->ipywidgets) (0.8.2)\n",
      "Requirement already satisfied: pyzmq>=13 in d:\\github\\genostechbooks\\venv\\lib\\site-packages (from jupyter-client<8.0->ipykernel>=4.5.1->ipywidgets) (22.3.0)\n",
      "Requirement already satisfied: entrypoints in d:\\github\\genostechbooks\\venv\\lib\\site-packages (from jupyter-client<8.0->ipykernel>=4.5.1->ipywidgets) (0.3)\n",
      "Requirement already satisfied: nest-asyncio>=1.5 in d:\\github\\genostechbooks\\venv\\lib\\site-packages (from jupyter-client<8.0->ipykernel>=4.5.1->ipywidgets) (1.5.1)\n",
      "Requirement already satisfied: python-dateutil>=2.1 in d:\\github\\genostechbooks\\venv\\lib\\site-packages (from jupyter-client<8.0->ipykernel>=4.5.1->ipywidgets) (2.8.2)\n",
      "Requirement already satisfied: jupyter-core>=4.6.0 in d:\\github\\genostechbooks\\venv\\lib\\site-packages (from jupyter-client<8.0->ipykernel>=4.5.1->ipywidgets) (4.8.1)\n",
      "Requirement already satisfied: pywin32>=1.0 in d:\\github\\genostechbooks\\venv\\lib\\site-packages (from jupyter-core>=4.6.0->jupyter-client<8.0->ipykernel>=4.5.1->ipywidgets) (302)\n",
      "Requirement already satisfied: jsonschema!=2.5.0,>=2.4 in d:\\github\\genostechbooks\\venv\\lib\\site-packages (from nbformat>=4.2.0->ipywidgets) (3.2.0)\n",
      "Requirement already satisfied: attrs>=17.4.0 in d:\\github\\genostechbooks\\venv\\lib\\site-packages (from jsonschema!=2.5.0,>=2.4->nbformat>=4.2.0->ipywidgets) (21.2.0)\n",
      "Requirement already satisfied: pyrsistent>=0.14.0 in d:\\github\\genostechbooks\\venv\\lib\\site-packages (from jsonschema!=2.5.0,>=2.4->nbformat>=4.2.0->ipywidgets) (0.18.0)\n",
      "Requirement already satisfied: six>=1.11.0 in d:\\github\\genostechbooks\\venv\\lib\\site-packages (from jsonschema!=2.5.0,>=2.4->nbformat>=4.2.0->ipywidgets) (1.16.0)\n",
      "Requirement already satisfied: wcwidth in d:\\github\\genostechbooks\\venv\\lib\\site-packages (from prompt-toolkit!=3.0.0,!=3.0.1,<3.1.0,>=2.0.0->ipython>=4.0.0->ipywidgets) (0.2.5)\n",
      "Requirement already satisfied: notebook>=4.4.1 in d:\\github\\genostechbooks\\venv\\lib\\site-packages (from widgetsnbextension~=3.5.0->ipywidgets) (6.4.5)\n",
      "Requirement already satisfied: nbconvert in d:\\github\\genostechbooks\\venv\\lib\\site-packages (from notebook>=4.4.1->widgetsnbextension~=3.5.0->ipywidgets) (6.2.0)\n",
      "Requirement already satisfied: prometheus-client in d:\\github\\genostechbooks\\venv\\lib\\site-packages (from notebook>=4.4.1->widgetsnbextension~=3.5.0->ipywidgets) (0.11.0)\n",
      "Requirement already satisfied: jinja2 in d:\\github\\genostechbooks\\venv\\lib\\site-packages (from notebook>=4.4.1->widgetsnbextension~=3.5.0->ipywidgets) (3.0.2)\n",
      "Requirement already satisfied: argon2-cffi in d:\\github\\genostechbooks\\venv\\lib\\site-packages (from notebook>=4.4.1->widgetsnbextension~=3.5.0->ipywidgets) (21.1.0)\n",
      "Requirement already satisfied: terminado>=0.8.3 in d:\\github\\genostechbooks\\venv\\lib\\site-packages (from notebook>=4.4.1->widgetsnbextension~=3.5.0->ipywidgets) (0.12.1)\n",
      "Requirement already satisfied: Send2Trash>=1.5.0 in d:\\github\\genostechbooks\\venv\\lib\\site-packages (from notebook>=4.4.1->widgetsnbextension~=3.5.0->ipywidgets) (1.8.0)\n",
      "Requirement already satisfied: pywinpty>=1.1.0 in d:\\github\\genostechbooks\\venv\\lib\\site-packages (from terminado>=0.8.3->notebook>=4.4.1->widgetsnbextension~=3.5.0->ipywidgets) (1.1.4)\n",
      "Requirement already satisfied: cffi>=1.0.0 in d:\\github\\genostechbooks\\venv\\lib\\site-packages (from argon2-cffi->notebook>=4.4.1->widgetsnbextension~=3.5.0->ipywidgets) (1.15.0)\n",
      "Requirement already satisfied: pycparser in d:\\github\\genostechbooks\\venv\\lib\\site-packages (from cffi>=1.0.0->argon2-cffi->notebook>=4.4.1->widgetsnbextension~=3.5.0->ipywidgets) (2.20)\n",
      "Requirement already satisfied: MarkupSafe>=2.0 in d:\\github\\genostechbooks\\venv\\lib\\site-packages (from jinja2->notebook>=4.4.1->widgetsnbextension~=3.5.0->ipywidgets) (2.0.1)\n",
      "Requirement already satisfied: testpath in d:\\github\\genostechbooks\\venv\\lib\\site-packages (from nbconvert->notebook>=4.4.1->widgetsnbextension~=3.5.0->ipywidgets) (0.5.0)\n",
      "Requirement already satisfied: pandocfilters>=1.4.1 in d:\\github\\genostechbooks\\venv\\lib\\site-packages (from nbconvert->notebook>=4.4.1->widgetsnbextension~=3.5.0->ipywidgets) (1.5.0)\n",
      "Requirement already satisfied: mistune<2,>=0.8.1 in d:\\github\\genostechbooks\\venv\\lib\\site-packages (from nbconvert->notebook>=4.4.1->widgetsnbextension~=3.5.0->ipywidgets) (0.8.4)\n",
      "Requirement already satisfied: bleach in d:\\github\\genostechbooks\\venv\\lib\\site-packages (from nbconvert->notebook>=4.4.1->widgetsnbextension~=3.5.0->ipywidgets) (4.1.0)\n",
      "Requirement already satisfied: jupyterlab-pygments in d:\\github\\genostechbooks\\venv\\lib\\site-packages (from nbconvert->notebook>=4.4.1->widgetsnbextension~=3.5.0->ipywidgets) (0.1.2)\n",
      "Requirement already satisfied: defusedxml in d:\\github\\genostechbooks\\venv\\lib\\site-packages (from nbconvert->notebook>=4.4.1->widgetsnbextension~=3.5.0->ipywidgets) (0.7.1)\n",
      "Requirement already satisfied: nbclient<0.6.0,>=0.5.0 in d:\\github\\genostechbooks\\venv\\lib\\site-packages (from nbconvert->notebook>=4.4.1->widgetsnbextension~=3.5.0->ipywidgets) (0.5.4)\n",
      "Requirement already satisfied: packaging in d:\\github\\genostechbooks\\venv\\lib\\site-packages (from bleach->nbconvert->notebook>=4.4.1->widgetsnbextension~=3.5.0->ipywidgets) (21.0)\n",
      "Requirement already satisfied: webencodings in d:\\github\\genostechbooks\\venv\\lib\\site-packages (from bleach->nbconvert->notebook>=4.4.1->widgetsnbextension~=3.5.0->ipywidgets) (0.5.1)"
     ]
    },
    {
     "name": "stderr",
     "output_type": "stream",
     "text": [
      "WARNING: You are using pip version 21.2.3; however, version 21.3.1 is available.\n",
      "You should consider upgrading via the 'D:\\Github\\GenosTechBooks\\venv\\Scripts\\python.exe -m pip install --upgrade pip' command.\n"
     ]
    },
    {
     "name": "stdout",
     "output_type": "stream",
     "text": [
      "\n",
      "Requirement already satisfied: pyparsing>=2.0.2 in d:\\github\\genostechbooks\\venv\\lib\\site-packages (from packaging->bleach->nbconvert->notebook>=4.4.1->widgetsnbextension~=3.5.0->ipywidgets) (3.0.0)\n"
     ]
    }
   ],
   "source": [
    "!pip install pandas\n",
    "!pip install matplotlib\n",
    "!pip install seaborn\n",
    "!pip install ipywidgets"
   ]
  },
  {
   "cell_type": "code",
   "execution_count": 2,
   "metadata": {
    "interactive": true,
    "tags": [
     "thebe-init"
    ]
   },
   "outputs": [],
   "source": [
    "from __future__ import print_function\n",
    "from ipywidgets import interact, interactive, fixed, interact_manual\n",
    "import ipywidgets as widgets\n",
    "import requests  # Import the requests library\n",
    "import pandas as pd\n",
    "import matplotlib.pyplot as plt\n",
    "import matplotlib as mpl\n",
    "import seaborn as sns"
   ]
  },
  {
   "cell_type": "code",
   "execution_count": 3,
   "metadata": {
    "tags": [
     "thebe-init",
     "hide_input",
     "hide_output"
    ]
   },
   "outputs": [
    {
     "data": {
      "text/html": [
       "<style>.toggle-button { display :none !important; }</style>"
      ],
      "text/plain": [
       "<IPython.core.display.HTML object>"
      ]
     },
     "metadata": {},
     "output_type": "display_data"
    },
    {
     "data": {
      "text/html": [
       "<style>.toggle-button-hidden { display :none !important; }</style>"
      ],
      "text/plain": [
       "<IPython.core.display.HTML object>"
      ]
     },
     "metadata": {},
     "output_type": "display_data"
    },
    {
     "data": {
      "text/html": [
       "<style>.button.toggle-button  { display :none !important; }</style>"
      ],
      "text/plain": [
       "<IPython.core.display.HTML object>"
      ]
     },
     "metadata": {},
     "output_type": "display_data"
    },
    {
     "data": {
      "text/html": [
       "<style>.fas fa-download { display :none !important; }</style>"
      ],
      "text/plain": [
       "<IPython.core.display.HTML object>"
      ]
     },
     "metadata": {},
     "output_type": "display_data"
    },
    {
     "name": "stdout",
     "output_type": "stream",
     "text": [
      "Data Request returned 200 : 'OK'\n"
     ]
    }
   ],
   "source": [
    "from IPython.core.display import display, HTML\n",
    "display(HTML(\"<style>.toggle-button { display :none !important; }</style>\"))\n",
    "display(HTML(\"<style>.toggle-button-hidden { display :none !important; }</style>\"))\n",
    "display(HTML(\"<style>.button.toggle-button  { display :none !important; }</style>\"))\n",
    "display(HTML(\"<style>.fas fa-download { display :none !important; }</style>\"))\n",
    "\n",
    "\n",
    "# Query URL\n",
    "url = ('https://covid19-healthylk.herokuapp.com/api/districtstotal?startdate=2021-08-31&enddate=2021-09-31')\n",
    "#print(url)\n",
    "response = requests.get(url)  # Make a GET request to the URL\n",
    "# Print status code (and associated text)\n",
    "print(f\"Data Request returned {response.status_code} : '{response.reason}'\")\n",
    "# Print data returned (parsing as JSON)\n",
    "payload = response.json()  # Parse `response.text` into JSON\n"
   ]
  },
  {
   "cell_type": "code",
   "execution_count": 4,
   "metadata": {
    "interactive": true,
    "tags": [
     "thebe-init"
    ]
   },
   "outputs": [
    {
     "name": "stdout",
     "output_type": "stream",
     "text": [
      "Dataset feactched as selected dataframe\n"
     ]
    }
   ],
   "source": [
    "data=pd.json_normalize(payload['data'])\n",
    "selected=data[[\"datetext\", \"counttext\",\"location.formattedAddress\"]]\n",
    "print('Dataset feactched as selected dataframe')\n",
    "#print(selected)\n",
    "#list(selected.columns.values)"
   ]
  },
  {
   "cell_type": "code",
   "execution_count": 5,
   "metadata": {
    "tags": [
     "thebe-init"
    ]
   },
   "outputs": [
    {
     "name": "stdout",
     "output_type": "stream",
     "text": [
      "By defult Nuwara Eliya District selected\n",
      "For other district select it form the dropdown below >>>\n"
     ]
    },
    {
     "data": {
      "application/vnd.jupyter.widget-view+json": {
       "model_id": "d248b7c23b05470894daec2c69e17a58",
       "version_major": 2,
       "version_minor": 0
      },
      "text/plain": [
       "HBox(children=(Dropdown(options=('a', 'b'), value='a'),))"
      ]
     },
     "metadata": {},
     "output_type": "display_data"
    },
    {
     "data": {
      "application/vnd.jupyter.widget-view+json": {
       "model_id": "4f85233125d44f74b465fe910f9da3d3",
       "version_major": 2,
       "version_minor": 0
      },
      "text/plain": [
       "Output()"
      ]
     },
     "metadata": {},
     "output_type": "display_data"
    }
   ],
   "source": [
    "filtedVals= selected[selected['location.formattedAddress'].str.contains('Nuwara Eliya, Sri Lanka')]\n",
    "print('By defult Nuwara Eliya District selected')\n",
    "print('For other district select it form the dropdown below >>>')\n",
    "\n",
    "\n",
    "\n",
    "def f(x):\n",
    "    print(\"District changed to %s\" % x)\n",
    "    filtedVals=selected[selected['location.formattedAddress'].str.contains(x)]\n",
    "    #print(filtedVals)\n",
    "    pivoted = pd.DataFrame(filtedVals.pivot_table(values='counttext', index='datetext', columns='location.formattedAddress', aggfunc='sum'))\n",
    "    return pivoted\n",
    "\n",
    "#interact(f, x=['Nuwara Eliya, Sri Lanka', 'Badulla, Sri Lanka', 'Kurunegala, Sri Lanka']);\n",
    "\n",
    "\n",
    "\n",
    "#def foo(param):\n",
    "    #display(param)\n",
    "    #return param\n",
    "    #return pd.DataFrame({'Z':[param,param], 'A': ['b', 'b']})\n",
    "\n",
    "params = widgets.Dropdown(options= ['a','b'])\n",
    "\n",
    "#bar = widgets.interactive_output(foo, {'param' : params})\n",
    "\n",
    "\n",
    "c = widgets.IntSlider()\n",
    "\n",
    "ui = widgets.HBox([params])\n",
    "def f2(params):\n",
    "    print((params))\n",
    "\n",
    "out = widgets.interactive_output(f2, {'params': params})\n",
    "\n",
    "display(ui, out)\n",
    "\n",
    "\n",
    "#display(widgets.VBox([params, bar]))\n",
    "\n",
    "#display(ui, out)\n"
   ]
  },
  {
   "cell_type": "code",
   "execution_count": 6,
   "metadata": {
    "interactive": true,
    "tags": [
     "thebe-init"
    ]
   },
   "outputs": [
    {
     "name": "stdout",
     "output_type": "stream",
     "text": [
      "By defult Nuwara Eliya District selected\n",
      "For other district select it form the dropdown below >>>\n"
     ]
    },
    {
     "data": {
      "application/vnd.jupyter.widget-view+json": {
       "model_id": "1d5e33560b2d4718856d8b4735be7025",
       "version_major": 2,
       "version_minor": 0
      },
      "text/plain": [
       "Dropdown(description='District:', options=('Nuwara Eliya, Sri Lanka', 'Badulla, Sri Lanka', 'Kurunegala, Sri L…"
      ]
     },
     "metadata": {},
     "output_type": "display_data"
    }
   ],
   "source": [
    "filtedVals= selected[selected['location.formattedAddress'].str.contains('Nuwara Eliya, Sri Lanka')]\n",
    "print('By defult Nuwara Eliya District selected')\n",
    "print('For other district select it form the dropdown below >>>')\n",
    "#print(filtedVals)\n",
    "w = widgets.Dropdown(\n",
    "    options=['Nuwara Eliya, Sri Lanka', 'Badulla, Sri Lanka', 'Kurunegala, Sri Lanka'],\n",
    "    value='Nuwara Eliya, Sri Lanka',\n",
    "    description='District:',\n",
    ")\n",
    "\n",
    "def on_change(change):\n",
    "    if change['type'] == 'change' and change['name'] == 'value':\n",
    "        print(\"District changed to %s\" % change['new'])\n",
    "        filtedVals=selected[selected['location.formattedAddress'].str.contains(change['new'])]\n",
    "        #print(filtedVals)\n",
    "        pivoted = pd.DataFrame(filtedVals.pivot_table(values='counttext', index='datetext', columns='location.formattedAddress', aggfunc='sum'))\n",
    "        #print(list(pivoted.columns.values))\n",
    "        #pivoted = pivoted.set_index('datetext')\n",
    "        #print(pivoted)\n",
    "        \n",
    "        # figure size globally set for matplotlib\n",
    "        mpl.rcParams['figure.figsize'] = (20, 20)\n",
    "        mpl.rcParams['axes.grid'] = False\n",
    "\n",
    "        ax = pivoted.plot()\n",
    "        #ax.set_color_palette(sns.color_palette(\"muted\"))\n",
    "        pivoted.plot(ax=ax)\n",
    "        plt.legend(loc='best',prop={'size': 9}) \n",
    "        plt.show() \n",
    "\n",
    "w.observe(on_change)\n",
    "\n",
    "display(w)"
   ]
  },
  {
   "cell_type": "code",
   "execution_count": 7,
   "metadata": {},
   "outputs": [
    {
     "data": {
      "application/vnd.jupyter.widget-view+json": {
       "model_id": "3313b8d82ec44d1facfc312fd7ff7402",
       "version_major": 2,
       "version_minor": 0
      },
      "text/plain": [
       "interactive(children=(Dropdown(description='m', index=1, options=(0, 1, 2, 3, 4), value=1), Output()), _dom_cl…"
      ]
     },
     "metadata": {},
     "output_type": "display_data"
    }
   ],
   "source": [
    "import numpy as np\n",
    "x = np.random.uniform(0, 5, size=100)\n",
    "ep = np.random.normal(size=100)\n",
    "\n",
    "y = 2*x + ep\n",
    "x_values = np.linspace(0, 5, 1000)\n",
    "\n",
    "def slope_viz(m=1):\n",
    "    plt.scatter(x, y)\n",
    "    plt.plot(x_values, m*x_values, lw=3, color='black')\n",
    "    \n",
    "    plt.ylim(-1.2, 12.2);\n",
    "\n",
    "widgets.interact(slope_viz, m=[0, 1, 2, 3, 4]);"
   ]
  },
  {
   "cell_type": "code",
   "execution_count": 103,
   "metadata": {},
   "outputs": [
    {
     "data": {
      "application/vnd.jupyter.widget-view+json": {
       "model_id": "4c6b342959dc470f8202dec21cff6708",
       "version_major": 2,
       "version_minor": 0
      },
      "text/plain": [
       "interactive(children=(Dropdown(description='x', options=('apples', 'oranges'), value='apples'), Output()), _do…"
      ]
     },
     "metadata": {},
     "output_type": "display_data"
    }
   ],
   "source": []
  }
 ],
 "metadata": {
  "celltoolbar": "Edit Metadata",
  "interpreter": {
   "hash": "3737066df5c064be03a6248772db1e76653979943fb860cf16d8d5c69b137dfa"
  },
  "kernelspec": {
   "display_name": "Python 3",
   "language": "python",
   "name": "python3"
  },
  "language_info": {
   "codemirror_mode": {
    "name": "ipython",
    "version": 3
   },
   "file_extension": ".py",
   "mimetype": "text/x-python",
   "name": "python",
   "nbconvert_exporter": "python",
   "pygments_lexer": "ipython3",
   "version": "3.9.7"
  },
  "widgets": {
   "application/vnd.jupyter.widget-state+json": {
    "state": {
     "0047236391164bd1a8708561e34a71a6": {
      "model_module": "@jupyter-widgets/controls",
      "model_module_version": "1.5.0",
      "model_name": "SliderStyleModel",
      "state": {
       "_model_module": "@jupyter-widgets/controls",
       "_model_module_version": "1.5.0",
       "_model_name": "SliderStyleModel",
       "_view_count": null,
       "_view_module": "@jupyter-widgets/base",
       "_view_module_version": "1.2.0",
       "_view_name": "StyleView",
       "description_width": "",
       "handle_color": null
      }
     },
     "0221e22e43974b9cb154a80f5a3c06f4": {
      "model_module": "@jupyter-widgets/controls",
      "model_module_version": "1.5.0",
      "model_name": "DescriptionStyleModel",
      "state": {
       "_model_module": "@jupyter-widgets/controls",
       "_model_module_version": "1.5.0",
       "_model_name": "DescriptionStyleModel",
       "_view_count": null,
       "_view_module": "@jupyter-widgets/base",
       "_view_module_version": "1.2.0",
       "_view_name": "StyleView",
       "description_width": ""
      }
     },
     "0b112a1539b142d488874fb5dd1d239d": {
      "model_module": "@jupyter-widgets/output",
      "model_module_version": "1.0.0",
      "model_name": "OutputModel",
      "state": {
       "_dom_classes": [],
       "_model_module": "@jupyter-widgets/output",
       "_model_module_version": "1.0.0",
       "_model_name": "OutputModel",
       "_view_count": null,
       "_view_module": "@jupyter-widgets/output",
       "_view_module_version": "1.0.0",
       "_view_name": "OutputView",
       "layout": "IPY_MODEL_8132005bf630483ca695d53a461dc773",
       "msg_id": "",
       "outputs": [
        {
         "data": {
          "image/png": "iVBORw0KGgoAAAANSUhEUgAAAXAAAAD5CAYAAAA+0W6bAAAAOXRFWHRTb2Z0d2FyZQBNYXRwbG90bGliIHZlcnNpb24zLjQuMywgaHR0cHM6Ly9tYXRwbG90bGliLm9yZy/MnkTPAAAACXBIWXMAAAsTAAALEwEAmpwYAAAh60lEQVR4nO3de3BU55km8OdFNKixDeKiYCzu4OCJ7YCgNzsBzA6CNt6Jg6lkq5LUZDaTyRa1VZud2LOLB+9s+bKbVJhhazap2q1NUXZmN2UnYRx7tM5ljcXNOFluUiQMAoSzCRc1NznQgJBALendP6Rud7f6dJ/T5979/KpSRs2h+2scv/31873fd0RVQURE4TPO7wEQEVF5WMCJiEKKBZyIKKRYwImIQooFnIgopFjAiYhCanypC0Tk+wCeBHBVVR8ZfWw7gM8CGADw/wB8VVWTpZ5rxowZOn/+fDvjJSKqOm1tbR+qan3+41KqD1xE1gDoBfCDrAL+OIC9qjooIn8DAKr6V6UGEYvFtLW1tZzxExFVLRFpU9VY/uMlZ+CqekBE5uc99k7Wj4cA/AvbIyQiCoHm9gS27+rCxWQ/HqiLYsuGJdjU2ODLWEoWcBP+HMBOB56HiCjQmtsTeO7N4+hPDQEAEsl+PPfmcQDwpYjbWsQUkb8GMAjgtSLXbBaRVhFp7enpsfNyRES+2r6rK1O80/pTQ9i+q8uX8ZRdwEXkzzCyuPknWiRIV9UdqhpT1Vh9/ZgMnogoNC4m+y097rayCriIPAHgWQAbVbXP2SEREQXTA3VRS4+7rWQBF5EfATgIYImIdIvI1wD8NwD3AWgRkQ4R+Z7L4yQi8t2WDUsQjdTkPBaN1GDLhiW+jMdMF8qXCjz8igtjISIKtPRCZSV1oRARVY1NjQ2+Fex83EpPRBRSLOBERCHFAk5EFFIs4EREIcUCTkQUUizgREQhxQJORBRSLOBERCHFAk5EFFIs4EREIcUCTkQUUizgREQhxQJORBRSLOBERCHFAk5EFFIs4EREIcUCTkQUUizgREQhxVuqERHlaW5PBOa+l8WwgBMRZWluT+C5N4+jPzUEAEgk+/Hcm8cBIHBFnBEKEVGW7bu6MsU7rT81hO27unwakTEWcCKiLBeT/ZYe9xMjFCKiLA/URZEoUKwfqIsGLhsvOQMXke+LyFUROZH12DQRaRGRD0b/OdXdYRIReWPLhiWIRmpyHotGarD2oXo89+ZxJJL9UHyUjTe3J/wZKMxFKP8TwBN5j20FsEdVHwSwZ/RnIqLQ29TYgG9/7lE01EUhABrqovj25x7FvtM9gcvGS0YoqnpARObnPfwUgD8a/fX/ArAfwF85OTAiIr9samwYE408s7Oj4LV+ZuPlLmLOVNVLo7++DGCm0YUisllEWkWktaenp8yXIyLy15RoxNLjXrDdhaKqCkCL/P4OVY2paqy+vt7uyxER+ULE2uNeKLcL5YqIzFLVSyIyC8BVJwdFROSnQt0myb5UwWuNHvdCuTPwtwB8ZfTXXwHwv50ZDhGRv9I7MfO7TeomFY5KHqiLejvALGbaCH8E4CCAJSLSLSJfA7ANQFxEPgCwfvRnIqLQM9qJqYqC7YVbNizxcng5zHShfMngt9Y5PBYiIt8ZdZXc6E/hv35hWaA28nAnJhHZFrQdinYU24lZqL3QTzwLhYhsMcqMvd6h2NyewKpte7Fg68+xatvesl9/y4YliNTktpZEasTXqMQICzgR2RKE0/sc/xDJb4w2bJT2Fws4EdkShNP7nPwQ2b6rC6nh3IqdGtZAHifLDJyIbCmWGXul2IdIfj6/9qF67DvdY5jXB+EDySzOwInIFqPT+7zMjI0+LOomRcZEK68eOl80ajF6Lj/7vY2wgBORLUan93nRrZFeuEwk+5G/oz0aqYEqxkQr+fKjliB8IJnFCIWIbPOjvS7/3pUKQEb/2TAajRidIJgvOx5Jv48wtEWygBNRKBVauEwX719tbcpcUyifz5cfjwSt39sIIxQiCiUzi42F4pB8QY1HzGABJ6JQMrPYmM7ni/Eqr3cDCzgRhZLZxcZNjQ1oMCj2DaPb48OKBZyIQslK90uYOkus4CImEdni9EFW6edLJPtRI4Ih1UxXSf7zml1sDFNniRUs4ERUtvxWvvTGGABlFcf85xtSdeR5038u7AU7HyMUIiqb0wdZFXo+J563UnEGTkRlM3tuiNmYpdR5I0E8j8RPnIETUdnMtPJZOeq11HkjQTyPxE8s4ERUNjPdHVZilmIbbyqha8RpjFCIyJRiMUixeMTK8azZz2emC6XasYATUUmluk2KFVar54UXer70h8czOzsqpgXQCYxQiCqMU/eGzGan28TuJpqg3HMziFjAiSqIW8XOzl1q7J4XHoR7bgaVrQhFRJ4B8K8wcorjcQBfVdU7TgyMiKwrVuzsRA52b5tmZxNNmG5x5rWyZ+Ai0gDgLwDEVPURADUAvujUwIjIOreKnZ9niYTlFmduRFel2I1QxgOIish4AJMAXLQ/JCIql1vFzmoM4mQxC8NBVH7l9GVHKKqaEJH/AuA8gH4A76jqO46NjIgs27JhSU63COBcsTMbg1g5H8XMDs0wHETlVnRVStkFXESmAngKwAIASQCvi8iXVfXVvOs2A9gMAHPnzi1/pERUUhCKndliVqjQP7OzA63nruGbm3JvwhD0g6j8yuntLGKuB/A7Ve0BABF5E8BKADkFXFV3ANgBALFYTG28HlFFcfoY1jQvil2xsZstZkb3tHzt0HnE5k0LdMHOZ3eRt1x2MvDzAP5QRCaJiABYB+CUM8Miqmxh7m0uNXazObxRoVcgdC2CfuX0ZRdwVT0M4CcAfo2RFsJxGJ1pE1FxYe5tLjV2s8Ws2OzUrejB6uKq2evt9rqXy1YfuKq+AOAFh8ZCVDXC3Ntcauxmc/gtG5bgmZ0dKJSruhE9WL35hNXr/cjpeRYKkQ/8ykydYGbsZorZpsYGtJ67htcOnc8p4m5FD1Y7RfzqLLGCBZzIB262+9mRvTg5JRqBCJDsS+XMop0c+zc3PYrYvGmedM1Y/dYThm9JLOBEPghCu1++/Mgg2Z/K/F6h+MCpsXsVPVj91hOGb0mi6l1nXywW09bWVs9ej4jMW7Vtb8GCla2hLopfbW3yaETOyv+AAka+ORgtNlq93k0i0qaqsfzHOQMn8pBbvd9OMBMNWI0PgvR+rX5zCOK3pHws4EQeKdbVAPhfKIwig/xrzLLaxeEFq3FN0HeA8jxwIo8YdTW89NPOMRtjnt7ZgWUvvePZxp7m9gT6BgaLXmN1oTLMve5hwQJO5BGj+OF6X2pMoQNGFhGf3tmBxv/kbiFPz5Sv96VyHo9GxmHqpEjZG1PC0MURdoxQiDxiJqIo5HpfytXoodBMGQCm3TPR1oJlGLo43OJV9s8ZOJFHjLaY10UjJf+sm9FDJd4Ewk9ennPDAk7kEaPzMl7c+PCYQleIW9FDUG4CUSm8zP4ZoRB5qFhXw0s/7RyTQ2dzK3oIwk0gKomX2T9n4EQBsKmxAe3PP47vfGFZwUjFzeihWmfKbvHyHp7ciUkUQEHaAEPWuLGDkzsxiUKkGqOHSuHlDk4WcCIih3n1AcwMnIgopDgDJ6JQ4frAR1jAiXzGgmReEA/I8hMjFCIfhfnu9H7gAVm5WMCJfMSCZA0PyMrFAk7kIxYka7zcJBMGLOBEPmJBsqZaD8gywgJO5KNCBUkArH2o3p8BBRy3/eey1YUiInUAXgbwCAAF8OeqetCBcRFVhU2NDWg9dw2vHTqP9KEWCuCNtgRi86ZVbWEqhrtUP2J3Bv5dAG+r6kMAlgI4ZX9IRNVl3+ke5J9IxIVMMqPsGbiITAGwBsCfAYCqDgAYcGZYRNWDC5lULjsz8AUAegD8vYi0i8jLInJP/kUisllEWkWktaenx8bLEVUmLmRSuewU8PEAlgP4H6raCOA2gK35F6nqDlWNqWqsvp4LM0T52FlB5bKziNkNoFtVD4/+/BMUKOBElcKtLe9eHj9KlaXsAq6ql0XkgogsUdUuAOsAnHRuaETB0dyewJbXjyE1PLLcmEj2Y8vrx9B67hr2ne6xXXjZWUHlsHuY1b8F8JqITADwWwBftT8kouB58a3OTPFOSw0rXj10PvNztR+sRN6z1Uaoqh2j+fYnVXWTql53amBEQZLsN77ZcDa2/5GXuBOTyGFs/yOv8DxwqmpmFyanTorgep+5WTjb/8grnIFTxWluT2DVtr1YsPXnWLVtr+HZ2lbO4n7hsw8jUiM5j9WME0TG5T7G9j/yEmfg5Aq/7jJj5Y4txc7izr/WqNWv0GNcwCSvsICT4/y87ZWVomx1C7tRqx8LNvmFEQo5zs+7zFgpytzCTmHHAk6O8/NwJitFmVvYKexYwMlxfs5srRTl9M0B6qKRzGO1Ef4nQeHB/7eS4/yc2ZZzx5a7g8OZX1/vS/Gu8OSoK1eu4Ic//CFefvllx59bVPOPkndPLBbT1tZWz16P/ONXF4pVq7btRaJAtNNQF8Wvtjb5MCIKu9u3b+PAgQPYvXs3WlpacPz4yAL+rFmzkEgkICIlnmEsEWlT1diYx1nAqZot2PrzMXfDSWsI8AcPBcfg4CBaW1szBfvgwYNIpQpv+urs7MQnPvEJy69hVMDZRkhV7YG6aMEZOMDDqagwVcWZM2cyBXvfvn24efOm4fWRSASf/vSnsX79ekyZMsXRsbCAU1XbsmFJTs96PqMecqouV65cwZ49e9DS0oLdu3eju7u76PWPPvoo1q9fj3g8jsceewz33nuvK+NiAaeCwpJh25W9w9JoJs7DqapPb28v3nvvvUzBTufYRmbPnp0p2E1NTbj//vs9GScLOI3h505KP6R3WBotaFppf6yWD75KMzg4iKNHj2L37t3YvXt30RwbACZPnoy1a9ciHo9j/fr1+PjHP17W4qRdLOA0hpXt6JWkUJxipf2x2j74wkxV0dXVlSnYZnLslStXYv369Vi/fj1isRjGj/e/fPo/AgocP3dS+snuvSmr9YMvLC5fvow9e/ZkiraZHDs9w3Yzx7aDBZzGMOrMCMsZIXZiDDv3pqzWD76g6u3tzfRjm82x0wXbyxzbDhZwGsNulJDmRx7sZ4wR9g++sCsnx25qasrEIn7l2HawgNMYdqMEwL9C6meM4dQHH5lTKTm2HeEePbnGTpQA+FdIjeKKRLIfze0JV1/biQ8+Ki6dY6fb+xKJ4mfWfPKTn8wU7DVr1uCee+7xaKTeYAGnksqJQvzKg4vtrPTiG4DdDz7KlZ1jt7S04MSJE0Wvz86x161bh5kzZ3o0Un+wgFNGoUINoKwoxK88uNjOSnaEBF86x07PsA8ePIjBwUHD66dMmYK1a9dmNtE8+OCDocux7bBdwEWkBkArgISqPml/SOQHo8y6NjKurCjErTy41LeB9K+f3tlR8M972RHCTT2lpXPsdMHev3+/qRw7PctesWJF6HNsO5x4598AcArAZAeei3xilFkbnRFSqhC6kQebXRjd1NhguDXeq44Qbuoxdvny5czCo9kcO7sfu9JybDtsFXARmQ3gMwC+BeAvHRkR+cLqzNRMIXQ6D7ayMOrGNwArM2pu6vlIb28v3n333UzBLpVjz5kzJ+dckUrPse2wOwP/DoBnAdxndIGIbAawGQDmzp1r8+XILUaZdV00gruDw4FojbOyMFrON4BiBdrqjLqaN/UMDg7iyJEjOf3YpXLs7H7sasux7Si7gIvIkwCuqmqbiPyR0XWqugPADmDkhg7lvh65y2jG+uLGhwEEozXO6sKolW8ApQq01Rl1NW3qUVWcPn06px/71q1bhtdHIhGsWrUqU7CrPce2w87f2ioAG0XkjwHUApgsIq+q6pedGRp5qdSMNQhf+93cKFOqQFudUVf6pp5Lly7lnCtSKsdeunRppmAzx3ZO2QVcVZ8D8BwAjM7A/z2Ld7gFvYfZzY0ypQp0ObN/t8bqh1u3buX0Y3d2dha9fs6cOTnnijDHdge/t1CouPUhU6pAlzOjDvoHYjGpVCpzrkhLSwsOHTrEHDuAHCngqrofwH4nnosqS1h6oUsV6EqbUefLzrFbWlqwf/9+5tghwL9xck1zewJbXj+G1PDI2nUi2Y8trx8DMDZT97vQmynQYZ5RF5LOsdObaC5evFj0eubYwSOq3jWGxGIxbW1t9ez1gs7vouW2ZS+9g2T/2OM866IRdLzweObn/A4QYGT2++3PPVpRfx9+S+fY6YJtNsdO92N/7GMf82iklE9E2lQ1lv84Z+A+qYadeoWKd6HHuenFHekcO12wreTY8XgcixcvZo4dcCzgLjAzs2bR+kg1b3pxUjrHzj5XpFiOPWHChJxzRZYvX84cO2T4b8thZmfW1VC0pk6K4Hrf2Fn41EmRnJ+radOL0y5evJjTj20mx04X7NWrVzPHDjkWcIeZnVlXQ9F64bMPY8tPjiE19NE6S6RG8MJnH865rtI3vTjp1q1bOeeKlMqx586dm9OPzRy7srCAO8zszLoaitamxga0nruGHx2+gCFV1IjgC/9kzpiIqNJb9OxIpVI554qUyrHr6upy+rGZY1c2FnCHmZ1ZV0PRam5P4I22BIZGO52GVPFGWwKxedMKFvFKeu/lUlWcOnUqU7DN5Nj5/dg1NTUejpj8xALuMCsz6zAVrXJaHrlQa47VHHvZsmWZgs0cu7qxgDvM65m1F73k5bY8VsNCbTmyc+yWlhacPHmy6PXZOfa6detQX1/v0Ugp6FjAXeDVzNqrXvJyZ9LVsFBrRnaO3dLSgsOHD5vOsePxOBYtWsQcmwpiAQ8xo8L64ludlgt4sZl8uTPptQ/V47VD55G917fSFmoLyc6x0+eK9Pb2Gl6fnWPH43EsX76cOTaZwgIeYkYFNNmfQnN7wrGbGZQzk04vYGYXbwHw+RXhyf2tSOfY6U00ly5dKnp9OseOx+NYvXo1Jk2a5NFIqZKwgJchCGeYNLcnRiqiwVE2VhYKS0Uk5bQ8FnpOBbDvdI+pMQXdrVu3sH///szCo9kcO32uCHNscgILuEWFZqtbXj+Gl37aiWRfypOCnh5DsXPIrCwUlopIylmYrbQFzFQqhcOHD2cKtpkce926dZluEebY5AYWcIsKzSxTw5rZMu7UQmKxWX6hMeSzslBoJiKxujAb9gVMVcXJkydz+rHN5NjZ54owxya3sYBbZGYGabfXuVQmXWoMAlhaKHRjV2gYd5omEomcfmwzOXb2uSLMsclrLOAWGc0s89mJCowy6ad3dmD7ri5MiUYMj2oVAH/yh3MtfXi40bvu9HO6se5w8+bNnHNFSuXY8+bNyzlXhDk2+Y0F3KJCM8tC7EQFxYp/ItmPSI0gMk4yd7pJq4tG8OLGh8sqbG70rjv1nE71u+fn2IcOHcLQkPG/x6lTp+acK8Icm4KGBdyE/Nnf51c0YN/pHlxM9mNKNILbA4M5J+7ZjQqKzbABIDWkmDopgkkTxgf+HBUnZs7lbiTKzrFbWlrw7rvvlsyxV69enSnYzLEp6FjASyg0+3ujLZFzuy8nv943tydwe8C4uyEt2ZdC+/OPl7zOT07NnK10tFjNsRsbG3POFWGOTWHCAl6Cmdmfk/HD9l1dObN5I+VGNF72sDt1mFWxjpZ0jp3eQHPq1Kmiz8UcmyoJC3gJXvczm3neciMar+/D6dTfXfa6gw4N4u6lLgyeP4ZrN89g2n9sN51jx+NxLFy4kDk2VYyyC7iIzAHwAwAzMbLJboeqftepgQWF1/3MRq9XI4JhVVuzZq+Pd3Xi705V8eCEJFb2H8Y//uz/IPm796EDI8/5+wLXZ+fY8XgcjY2NzLGpYtmZgQ8C+Heq+msRuQ9Am4i0qGrxXqyQ8bqf2ej1sjP3cnn9baLcv7tEIpHJsHfv3o3Lly8XvT6dY8fjcaxatYo5NlWNsgu4ql4CcGn017dE5BSABgAVVcC9Pt/bzdfz+tuE2fdy8+bNnHNFSuXY8+fPz+TYa9euZY5NVUu02IEaZp9EZD6AAwAeUdWbRtfFYjFtbW21/XphFJQDsNya3VuRSqVw6NChnHNFSuXY2eeKMMemaiMibaoay3/c9iKmiNwL4A0ATxcq3iKyGcBmYOREtrCyWoCzr8/vFXd78dCIX/fhVFV0dnZmCnapfuyJEyfm9GMzxyYqzNYMXEQiAH4GYJeq/l2p68M6A7c6cy10fSENdVH8amuT5bH4PZM3w0qOLSI5/djMsYlyOT4Dl5HvsK8AOGWmeIeZ1e4NM6cFAtYXD71uA7TCTo7d1NSEGTNmeDRSosphJ0JZBeBPARwXkY7Rx/6Dqv7C9qgCxmr3htnCbHXxsNgHSfr3vZqZDwwMjDkf20qOvWjRItfGRlQt7HSh/BIjh99VPKvdG2ZPLLTaimj0wZCeibs5M8/OsdPnity+fdvweubYRO7jTkwTrPYzmzmxsC4asVxci23ycWODTnd3d+Y+j3v27DGdY6f7saPRcNy8gSisWMBNsNq9kX19Itk/5taV0UgNXtz4sOVxFPpgEABDBgvRVjP2Gzdu5Jwrcvr06aLXM8cm8hcLeBF2Oj6yD7iy2zmS/efrJkUwcfw4JPtTxe5pDKB0xp7OsdMF+8iRI0Vz7GnTpqGpqSlTtBcuXGj6PRCR81jADTjZ8WHntML8cVzvSyEaqUFdiTPDC0U8qooTJ07k9GObybHTBXvZsmXMsYkCJPQF3K2+aK8PfrI6jmL5ekPW30N3d3dOP/aVK1cM/1w6x04XbObYRMEW6gLuZl+01wc/WR2HkZm1Q3j2D25h9/e34TkTOfaCBQtyzhVhjk0UHqEu4G7Okr0++MnqOKZOiuBOahh9d+7g7sUu3DnbgYHzx3Dh0hlsKpFj558rQkThFOoC7uYs2etjZM2OQ1UxLnkBjakreP/Iezhz5P9ieOCO4Z+fOHEiHnvssUzBZo5NVDlCXcDdnCX7dfBToXF8eOUi/uaV13Hp5FEMnD+GVO91/L3B9SKC5cuX55wrwhybqDKFuoC7PUt28l6XVty4cSNzrkhLSwu6urqKXr9w4cJMwW5qasL06dM9GikR+SnUBTwos+R8VjtjBgYGMudjt7S04MiRIxgeHja8njk2EQEhL+CAf7NkI2Y6Y7L7sdPnivT19Rk+Z3aOHY/HsWzZMowbN879N0NEgRb6Au4EJ3vJjTpjvrnzPSSP3cmcK1KqHzudY8fjcaxcuZI5NhGNUfUF3Ole8nQHzPDd27hz7n3cOdeB/rPHcO5aN75a5M+lc+x4PI61a9cyxyaikqq+gDvVSz4wMICDBw9i8MiPcbXrKAYufQBo6Rw7Ho9j3bp1zLGJyLKqL+BG53YX6yVvbk/gb98+jXMfnMKEK52YdqMLp9sPF82xIxMm4p+teSznXBHm2ERkR1UX8Ob2hOGJfoV6yS9cuIC/feV1/OAnP0Xv7zow3JcEAJwt9OQimDBzMeqXxLD5i09hy1c2MscmIkdVdQHfvqurYPEWjPSYJ5PJnPs8lurHXrRoUaa1jzk2Ebmtqgt4fkyigyncvXgad852YNv+/4zPHz1atB97XHQyauctRe28pYjOX4bffO9rbg+ZiCijYgu4mdbAWVNqcfaDU7hztgP95zpw98IJaOouAOBwgeesra3FxNkPQ2Y/itp5yzBh5kKIjOTYDS4ccuXWUblEVBkqsoAXaw1cMWM4E4mcfPsd3Lj2oeHziAhWrFiRc67I26d+78khV24elUtElaEiC3h2a+DwnV7cOX8cvz/bgS997xjufNhd9M/eP3senvrME5lzRaZNm5bz+15t3w/KDSWIKLgqroDfvXsXv33/CPrOdoyckX25eD/29OnTc84VWbBgQc7vG8UYbhfRoNxQgoiCK/QFfHh4GCdOnMjcmPfAgQNF+7Fra2tzzhVZunSpYT+2nzFGUG4oQUTBZauAi8gTAL4LoAbAy6q6zZFRlXD+/PlMjr1nzx5cvXq12Cgx4f7FuG/hcvzFv/wcnv3KRtTW1pp6HT9jjKDcUIKIgqvsAi4iNQD+O4A4gG4AR0XkLVU96dTg0pLJJPbt25cp2mfOnCl6/aJFi7C4cSXOTlyIvukPYc6sj5WVU/sZYwT1qFwiCg47M/BPAfiNqv4WAETkxwCeAuBoAf/Wt76F559/vmg/9vTp0/EHK1bh0r2Lcaf+E5g5fwH+tQPFzm6MYbcNMGhH5RJRsNgp4A0ALmT93A3gn+ZfJCKbAWwGgLlz51p+kcWLF48p3rW1tVizZk1m4fF3wzPw182dGEwNYTycy6rtxBhsAyQit7m+iKmqOwDsAIBYLFZo53pRTU1NqKmpybnP48qVK3Ny7K9v2+tKVm0nxmAbIBG5zU4BTwCYk/Xz7NHHHFVfX49r165h8uTJhte4mVWXG2OwDZCI3GbnPNOjAB4UkQUiMgHAFwG85cywchUr3oBxJu1ny10Qx0RElaXsAq6qgwC+DmAXgFMA/kFVO50amBVbNixBNFKT85jfLXdBHBMRVRZbGbiq/gLALxwaS9mC2HIXxDERUWURVcvrimWLxWLa2trq2esREVUCEWlT1Vj+46HfSm8Hj2slojCr2gLOPm0iCruqvatusT5tIqIwqNoCzj5tIgq7qi3g7NMmorCr2gLOPm0iCruqXcRknzYRhV3VFnCAx7USUbhVbYRCRBR2LOBERCHFAk5EFFIs4EREIcUCTkQUUp6eRigiPQDOlfnHZwD40MHhhAHfc3Xge64Odt7zPFWtz3/Q0wJuh4i0FjpOsZLxPVcHvufq4MZ7ZoRCRBRSLOBERCEVpgK+w+8B+IDvuTrwPVcHx99zaDJwIiLKFaYZOBERZQlFAReRJ0SkS0R+IyJb/R6P20Tk+yJyVURO+D0WL4jIHBHZJyInRaRTRL7h95jcJiK1InJERI6NvueX/B6TV0SkRkTaReRnfo/FCyJyVkSOi0iHiDh6V/fARygiUgPgDIA4gG4ARwF8SVVP+jowF4nIGgC9AH6gqo/4PR63icgsALNU9dcich+ANgCbKvzfsQC4R1V7RSQC4JcAvqGqh3wemutE5C8BxABMVtUn/R6P20TkLICYqjre9x6GGfinAPxGVX+rqgMAfgzgKZ/H5CpVPQDgmt/j8IqqXlLVX4/++haAUwAq+pxfHdE7+mNk9H/Bnk05QERmA/gMgJf9HkslCEMBbwBwIevnblT4f9zVTETmA2gEcNjnobhuNEroAHAVQIuqVvx7BvAdAM8CGPZ5HF5SAO+ISJuIbHbyicNQwKlKiMi9AN4A8LSq3vR7PG5T1SFVXQZgNoBPiUhFx2Ui8iSAq6ra5vdYPLZaVZcD+OcA/s1oROqIMBTwBIA5WT/PHn2MKshoDvwGgNdU9U2/x+MlVU0C2AfgCZ+H4rZVADaOZsI/BtAkIq/6OyT3qWpi9J9XAfwjRmJhR4ShgB8F8KCILBCRCQC+COAtn8dEDhpd0HsFwClV/Tu/x+MFEakXkbrRX0cxskh/2tdBuUxVn1PV2ao6HyP/He9V1S/7PCxXicg9owvzEJF7ADwOwLHussAXcFUdBPB1ALswsrj1D6ra6e+o3CUiPwJwEMASEekWka/5PSaXrQLwpxiZkXWM/u+P/R6Uy2YB2Cci72NkktKiqlXRVldlZgL4pYgcA3AEwM9V9W2nnjzwbYRERFRY4GfgRERUGAs4EVFIsYATEYUUCzgRUUixgBMRhRQLOBFRSLGAExGFFAs4EVFI/X/sGRgJn17mVAAAAABJRU5ErkJggg==\n",
          "text/plain": "<Figure size 432x288 with 1 Axes>"
         },
         "metadata": {
          "needs_background": "light"
         },
         "output_type": "display_data"
        }
       ]
      }
     },
     "1c985e4f82aa403fa89b21084028f203": {
      "model_module": "@jupyter-widgets/controls",
      "model_module_version": "1.5.0",
      "model_name": "DropdownModel",
      "state": {
       "_dom_classes": [],
       "_model_module": "@jupyter-widgets/controls",
       "_model_module_version": "1.5.0",
       "_model_name": "DropdownModel",
       "_options_labels": [
        "0",
        "1",
        "2",
        "3",
        "4"
       ],
       "_view_count": null,
       "_view_module": "@jupyter-widgets/controls",
       "_view_module_version": "1.5.0",
       "_view_name": "DropdownView",
       "description": "m",
       "description_tooltip": null,
       "disabled": false,
       "index": 1,
       "layout": "IPY_MODEL_fbc3e37d87c7425fb36929f173f1d39e",
       "style": "IPY_MODEL_2452ba55106d4de38a6f1baa310a70dc"
      }
     },
     "1d5e33560b2d4718856d8b4735be7025": {
      "model_module": "@jupyter-widgets/controls",
      "model_module_version": "1.5.0",
      "model_name": "DropdownModel",
      "state": {
       "_dom_classes": [],
       "_model_module": "@jupyter-widgets/controls",
       "_model_module_version": "1.5.0",
       "_model_name": "DropdownModel",
       "_options_labels": [
        "Nuwara Eliya, Sri Lanka",
        "Badulla, Sri Lanka",
        "Kurunegala, Sri Lanka"
       ],
       "_view_count": null,
       "_view_module": "@jupyter-widgets/controls",
       "_view_module_version": "1.5.0",
       "_view_name": "DropdownView",
       "description": "District:",
       "description_tooltip": null,
       "disabled": false,
       "index": 0,
       "layout": "IPY_MODEL_cb5dedb3fb6145fba6ee964d3e9cc6f8",
       "style": "IPY_MODEL_0221e22e43974b9cb154a80f5a3c06f4"
      }
     },
     "20f3733042eb466d95b320c0863d86fe": {
      "model_module": "@jupyter-widgets/controls",
      "model_module_version": "1.5.0",
      "model_name": "IntSliderModel",
      "state": {
       "_dom_classes": [],
       "_model_module": "@jupyter-widgets/controls",
       "_model_module_version": "1.5.0",
       "_model_name": "IntSliderModel",
       "_view_count": null,
       "_view_module": "@jupyter-widgets/controls",
       "_view_module_version": "1.5.0",
       "_view_name": "IntSliderView",
       "continuous_update": true,
       "description": "",
       "description_tooltip": null,
       "disabled": false,
       "layout": "IPY_MODEL_2964da1396f24622ab0e6f51532b3eff",
       "max": 100,
       "min": 0,
       "orientation": "horizontal",
       "readout": true,
       "readout_format": "d",
       "step": 1,
       "style": "IPY_MODEL_0047236391164bd1a8708561e34a71a6",
       "value": 0
      }
     },
     "2452ba55106d4de38a6f1baa310a70dc": {
      "model_module": "@jupyter-widgets/controls",
      "model_module_version": "1.5.0",
      "model_name": "DescriptionStyleModel",
      "state": {
       "_model_module": "@jupyter-widgets/controls",
       "_model_module_version": "1.5.0",
       "_model_name": "DescriptionStyleModel",
       "_view_count": null,
       "_view_module": "@jupyter-widgets/base",
       "_view_module_version": "1.2.0",
       "_view_name": "StyleView",
       "description_width": ""
      }
     },
     "2964da1396f24622ab0e6f51532b3eff": {
      "model_module": "@jupyter-widgets/base",
      "model_module_version": "1.2.0",
      "model_name": "LayoutModel",
      "state": {
       "_model_module": "@jupyter-widgets/base",
       "_model_module_version": "1.2.0",
       "_model_name": "LayoutModel",
       "_view_count": null,
       "_view_module": "@jupyter-widgets/base",
       "_view_module_version": "1.2.0",
       "_view_name": "LayoutView",
       "align_content": null,
       "align_items": null,
       "align_self": null,
       "border": null,
       "bottom": null,
       "display": null,
       "flex": null,
       "flex_flow": null,
       "grid_area": null,
       "grid_auto_columns": null,
       "grid_auto_flow": null,
       "grid_auto_rows": null,
       "grid_column": null,
       "grid_gap": null,
       "grid_row": null,
       "grid_template_areas": null,
       "grid_template_columns": null,
       "grid_template_rows": null,
       "height": null,
       "justify_content": null,
       "justify_items": null,
       "left": null,
       "margin": null,
       "max_height": null,
       "max_width": null,
       "min_height": null,
       "min_width": null,
       "object_fit": null,
       "object_position": null,
       "order": null,
       "overflow": null,
       "overflow_x": null,
       "overflow_y": null,
       "padding": null,
       "right": null,
       "top": null,
       "visibility": null,
       "width": null
      }
     },
     "3313b8d82ec44d1facfc312fd7ff7402": {
      "model_module": "@jupyter-widgets/controls",
      "model_module_version": "1.5.0",
      "model_name": "VBoxModel",
      "state": {
       "_dom_classes": [
        "widget-interact"
       ],
       "_model_module": "@jupyter-widgets/controls",
       "_model_module_version": "1.5.0",
       "_model_name": "VBoxModel",
       "_view_count": null,
       "_view_module": "@jupyter-widgets/controls",
       "_view_module_version": "1.5.0",
       "_view_name": "VBoxView",
       "box_style": "",
       "children": [
        "IPY_MODEL_1c985e4f82aa403fa89b21084028f203",
        "IPY_MODEL_0b112a1539b142d488874fb5dd1d239d"
       ],
       "layout": "IPY_MODEL_a14ad2ca2a9445719809e25a0dca6418"
      }
     },
     "357a61af2ca3440c817519c7ddc8b41a": {
      "model_module": "@jupyter-widgets/base",
      "model_module_version": "1.2.0",
      "model_name": "LayoutModel",
      "state": {
       "_model_module": "@jupyter-widgets/base",
       "_model_module_version": "1.2.0",
       "_model_name": "LayoutModel",
       "_view_count": null,
       "_view_module": "@jupyter-widgets/base",
       "_view_module_version": "1.2.0",
       "_view_name": "LayoutView",
       "align_content": null,
       "align_items": null,
       "align_self": null,
       "border": null,
       "bottom": null,
       "display": null,
       "flex": null,
       "flex_flow": null,
       "grid_area": null,
       "grid_auto_columns": null,
       "grid_auto_flow": null,
       "grid_auto_rows": null,
       "grid_column": null,
       "grid_gap": null,
       "grid_row": null,
       "grid_template_areas": null,
       "grid_template_columns": null,
       "grid_template_rows": null,
       "height": null,
       "justify_content": null,
       "justify_items": null,
       "left": null,
       "margin": null,
       "max_height": null,
       "max_width": null,
       "min_height": null,
       "min_width": null,
       "object_fit": null,
       "object_position": null,
       "order": null,
       "overflow": null,
       "overflow_x": null,
       "overflow_y": null,
       "padding": null,
       "right": null,
       "top": null,
       "visibility": null,
       "width": null
      }
     },
     "4f85233125d44f74b465fe910f9da3d3": {
      "model_module": "@jupyter-widgets/output",
      "model_module_version": "1.0.0",
      "model_name": "OutputModel",
      "state": {
       "_dom_classes": [],
       "_model_module": "@jupyter-widgets/output",
       "_model_module_version": "1.0.0",
       "_model_name": "OutputModel",
       "_view_count": null,
       "_view_module": "@jupyter-widgets/output",
       "_view_module_version": "1.0.0",
       "_view_name": "OutputView",
       "layout": "IPY_MODEL_f5e48549e59c4e85aede7fbfddee3826",
       "msg_id": "",
       "outputs": [
        {
         "name": "stdout",
         "output_type": "stream",
         "text": "a\n"
        }
       ]
      }
     },
     "50cc62e9f06c43f1b5fa88f1f6e9c144": {
      "model_module": "@jupyter-widgets/controls",
      "model_module_version": "1.5.0",
      "model_name": "DropdownModel",
      "state": {
       "_dom_classes": [],
       "_model_module": "@jupyter-widgets/controls",
       "_model_module_version": "1.5.0",
       "_model_name": "DropdownModel",
       "_options_labels": [
        "a",
        "b"
       ],
       "_view_count": null,
       "_view_module": "@jupyter-widgets/controls",
       "_view_module_version": "1.5.0",
       "_view_name": "DropdownView",
       "description": "",
       "description_tooltip": null,
       "disabled": false,
       "index": 0,
       "layout": "IPY_MODEL_357a61af2ca3440c817519c7ddc8b41a",
       "style": "IPY_MODEL_9f5f2610849045e484195a60d63ed4a9"
      }
     },
     "7f1ed01ae25d4ce58186ef1d27c599e9": {
      "model_module": "@jupyter-widgets/base",
      "model_module_version": "1.2.0",
      "model_name": "LayoutModel",
      "state": {
       "_model_module": "@jupyter-widgets/base",
       "_model_module_version": "1.2.0",
       "_model_name": "LayoutModel",
       "_view_count": null,
       "_view_module": "@jupyter-widgets/base",
       "_view_module_version": "1.2.0",
       "_view_name": "LayoutView",
       "align_content": null,
       "align_items": null,
       "align_self": null,
       "border": null,
       "bottom": null,
       "display": null,
       "flex": null,
       "flex_flow": null,
       "grid_area": null,
       "grid_auto_columns": null,
       "grid_auto_flow": null,
       "grid_auto_rows": null,
       "grid_column": null,
       "grid_gap": null,
       "grid_row": null,
       "grid_template_areas": null,
       "grid_template_columns": null,
       "grid_template_rows": null,
       "height": null,
       "justify_content": null,
       "justify_items": null,
       "left": null,
       "margin": null,
       "max_height": null,
       "max_width": null,
       "min_height": null,
       "min_width": null,
       "object_fit": null,
       "object_position": null,
       "order": null,
       "overflow": null,
       "overflow_x": null,
       "overflow_y": null,
       "padding": null,
       "right": null,
       "top": null,
       "visibility": null,
       "width": null
      }
     },
     "8132005bf630483ca695d53a461dc773": {
      "model_module": "@jupyter-widgets/base",
      "model_module_version": "1.2.0",
      "model_name": "LayoutModel",
      "state": {
       "_model_module": "@jupyter-widgets/base",
       "_model_module_version": "1.2.0",
       "_model_name": "LayoutModel",
       "_view_count": null,
       "_view_module": "@jupyter-widgets/base",
       "_view_module_version": "1.2.0",
       "_view_name": "LayoutView",
       "align_content": null,
       "align_items": null,
       "align_self": null,
       "border": null,
       "bottom": null,
       "display": null,
       "flex": null,
       "flex_flow": null,
       "grid_area": null,
       "grid_auto_columns": null,
       "grid_auto_flow": null,
       "grid_auto_rows": null,
       "grid_column": null,
       "grid_gap": null,
       "grid_row": null,
       "grid_template_areas": null,
       "grid_template_columns": null,
       "grid_template_rows": null,
       "height": null,
       "justify_content": null,
       "justify_items": null,
       "left": null,
       "margin": null,
       "max_height": null,
       "max_width": null,
       "min_height": null,
       "min_width": null,
       "object_fit": null,
       "object_position": null,
       "order": null,
       "overflow": null,
       "overflow_x": null,
       "overflow_y": null,
       "padding": null,
       "right": null,
       "top": null,
       "visibility": null,
       "width": null
      }
     },
     "9f5f2610849045e484195a60d63ed4a9": {
      "model_module": "@jupyter-widgets/controls",
      "model_module_version": "1.5.0",
      "model_name": "DescriptionStyleModel",
      "state": {
       "_model_module": "@jupyter-widgets/controls",
       "_model_module_version": "1.5.0",
       "_model_name": "DescriptionStyleModel",
       "_view_count": null,
       "_view_module": "@jupyter-widgets/base",
       "_view_module_version": "1.2.0",
       "_view_name": "StyleView",
       "description_width": ""
      }
     },
     "a14ad2ca2a9445719809e25a0dca6418": {
      "model_module": "@jupyter-widgets/base",
      "model_module_version": "1.2.0",
      "model_name": "LayoutModel",
      "state": {
       "_model_module": "@jupyter-widgets/base",
       "_model_module_version": "1.2.0",
       "_model_name": "LayoutModel",
       "_view_count": null,
       "_view_module": "@jupyter-widgets/base",
       "_view_module_version": "1.2.0",
       "_view_name": "LayoutView",
       "align_content": null,
       "align_items": null,
       "align_self": null,
       "border": null,
       "bottom": null,
       "display": null,
       "flex": null,
       "flex_flow": null,
       "grid_area": null,
       "grid_auto_columns": null,
       "grid_auto_flow": null,
       "grid_auto_rows": null,
       "grid_column": null,
       "grid_gap": null,
       "grid_row": null,
       "grid_template_areas": null,
       "grid_template_columns": null,
       "grid_template_rows": null,
       "height": null,
       "justify_content": null,
       "justify_items": null,
       "left": null,
       "margin": null,
       "max_height": null,
       "max_width": null,
       "min_height": null,
       "min_width": null,
       "object_fit": null,
       "object_position": null,
       "order": null,
       "overflow": null,
       "overflow_x": null,
       "overflow_y": null,
       "padding": null,
       "right": null,
       "top": null,
       "visibility": null,
       "width": null
      }
     },
     "cb5dedb3fb6145fba6ee964d3e9cc6f8": {
      "model_module": "@jupyter-widgets/base",
      "model_module_version": "1.2.0",
      "model_name": "LayoutModel",
      "state": {
       "_model_module": "@jupyter-widgets/base",
       "_model_module_version": "1.2.0",
       "_model_name": "LayoutModel",
       "_view_count": null,
       "_view_module": "@jupyter-widgets/base",
       "_view_module_version": "1.2.0",
       "_view_name": "LayoutView",
       "align_content": null,
       "align_items": null,
       "align_self": null,
       "border": null,
       "bottom": null,
       "display": null,
       "flex": null,
       "flex_flow": null,
       "grid_area": null,
       "grid_auto_columns": null,
       "grid_auto_flow": null,
       "grid_auto_rows": null,
       "grid_column": null,
       "grid_gap": null,
       "grid_row": null,
       "grid_template_areas": null,
       "grid_template_columns": null,
       "grid_template_rows": null,
       "height": null,
       "justify_content": null,
       "justify_items": null,
       "left": null,
       "margin": null,
       "max_height": null,
       "max_width": null,
       "min_height": null,
       "min_width": null,
       "object_fit": null,
       "object_position": null,
       "order": null,
       "overflow": null,
       "overflow_x": null,
       "overflow_y": null,
       "padding": null,
       "right": null,
       "top": null,
       "visibility": null,
       "width": null
      }
     },
     "d248b7c23b05470894daec2c69e17a58": {
      "model_module": "@jupyter-widgets/controls",
      "model_module_version": "1.5.0",
      "model_name": "HBoxModel",
      "state": {
       "_dom_classes": [],
       "_model_module": "@jupyter-widgets/controls",
       "_model_module_version": "1.5.0",
       "_model_name": "HBoxModel",
       "_view_count": null,
       "_view_module": "@jupyter-widgets/controls",
       "_view_module_version": "1.5.0",
       "_view_name": "HBoxView",
       "box_style": "",
       "children": [
        "IPY_MODEL_50cc62e9f06c43f1b5fa88f1f6e9c144"
       ],
       "layout": "IPY_MODEL_7f1ed01ae25d4ce58186ef1d27c599e9"
      }
     },
     "f5e48549e59c4e85aede7fbfddee3826": {
      "model_module": "@jupyter-widgets/base",
      "model_module_version": "1.2.0",
      "model_name": "LayoutModel",
      "state": {
       "_model_module": "@jupyter-widgets/base",
       "_model_module_version": "1.2.0",
       "_model_name": "LayoutModel",
       "_view_count": null,
       "_view_module": "@jupyter-widgets/base",
       "_view_module_version": "1.2.0",
       "_view_name": "LayoutView",
       "align_content": null,
       "align_items": null,
       "align_self": null,
       "border": null,
       "bottom": null,
       "display": null,
       "flex": null,
       "flex_flow": null,
       "grid_area": null,
       "grid_auto_columns": null,
       "grid_auto_flow": null,
       "grid_auto_rows": null,
       "grid_column": null,
       "grid_gap": null,
       "grid_row": null,
       "grid_template_areas": null,
       "grid_template_columns": null,
       "grid_template_rows": null,
       "height": null,
       "justify_content": null,
       "justify_items": null,
       "left": null,
       "margin": null,
       "max_height": null,
       "max_width": null,
       "min_height": null,
       "min_width": null,
       "object_fit": null,
       "object_position": null,
       "order": null,
       "overflow": null,
       "overflow_x": null,
       "overflow_y": null,
       "padding": null,
       "right": null,
       "top": null,
       "visibility": null,
       "width": null
      }
     },
     "fbc3e37d87c7425fb36929f173f1d39e": {
      "model_module": "@jupyter-widgets/base",
      "model_module_version": "1.2.0",
      "model_name": "LayoutModel",
      "state": {
       "_model_module": "@jupyter-widgets/base",
       "_model_module_version": "1.2.0",
       "_model_name": "LayoutModel",
       "_view_count": null,
       "_view_module": "@jupyter-widgets/base",
       "_view_module_version": "1.2.0",
       "_view_name": "LayoutView",
       "align_content": null,
       "align_items": null,
       "align_self": null,
       "border": null,
       "bottom": null,
       "display": null,
       "flex": null,
       "flex_flow": null,
       "grid_area": null,
       "grid_auto_columns": null,
       "grid_auto_flow": null,
       "grid_auto_rows": null,
       "grid_column": null,
       "grid_gap": null,
       "grid_row": null,
       "grid_template_areas": null,
       "grid_template_columns": null,
       "grid_template_rows": null,
       "height": null,
       "justify_content": null,
       "justify_items": null,
       "left": null,
       "margin": null,
       "max_height": null,
       "max_width": null,
       "min_height": null,
       "min_width": null,
       "object_fit": null,
       "object_position": null,
       "order": null,
       "overflow": null,
       "overflow_x": null,
       "overflow_y": null,
       "padding": null,
       "right": null,
       "top": null,
       "visibility": null,
       "width": null
      }
     }
    },
    "version_major": 2,
    "version_minor": 0
   }
  }
 },
 "nbformat": 4,
 "nbformat_minor": 4
}